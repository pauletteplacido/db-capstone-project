{
 "cells": [
  {
   "cell_type": "code",
   "execution_count": 54,
   "id": "25f35360-d2a0-4a4a-9d55-ab9ea0cf1951",
   "metadata": {},
   "outputs": [],
   "source": [
    "import mysql.connector as connector"
   ]
  },
  {
   "cell_type": "code",
   "execution_count": 55,
   "id": "07091359-22a0-4c11-b834-a1db1a1ef276",
   "metadata": {},
   "outputs": [],
   "source": [
    "connection=connector.connect(user=\"root\", password=\"123456\", host=\"localhost\", db=\"littlelemondb\")"
   ]
  },
  {
   "cell_type": "code",
   "execution_count": 56,
   "id": "aa4637cd-adda-44f6-b1ac-a4c0fea71756",
   "metadata": {},
   "outputs": [],
   "source": [
    "cursor=connection.cursor()"
   ]
  },
  {
   "cell_type": "code",
   "execution_count": 57,
   "id": "c9caabf3-363e-4bb6-aef2-f12362557e50",
   "metadata": {},
   "outputs": [],
   "source": [
    "use_database_query=\"USE littlelemondb\"\n",
    "cursor.execute(use_database_query)"
   ]
  },
  {
   "cell_type": "code",
   "execution_count": 58,
   "id": "b3b84ba7-e674-4ef1-8976-ea2ecd9601f7",
   "metadata": {},
   "outputs": [],
   "source": [
    "show_tables_query=\"SHOW tables\"\n",
    "cursor.execute(show_tables_query)"
   ]
  },
  {
   "cell_type": "code",
   "execution_count": 59,
   "id": "6fb704eb-beae-4a6b-b2fe-57182d7bf90b",
   "metadata": {},
   "outputs": [
    {
     "data": {
      "text/plain": [
       "[('bookings',),\n",
       " ('customerdetails',),\n",
       " ('delivery_status',),\n",
       " ('menu',),\n",
       " ('menuitems',),\n",
       " ('orders',),\n",
       " ('ordersview',),\n",
       " ('staff',)]"
      ]
     },
     "execution_count": 59,
     "metadata": {},
     "output_type": "execute_result"
    }
   ],
   "source": [
    "cursor.fetchall()"
   ]
  },
  {
   "cell_type": "code",
   "execution_count": 60,
   "id": "f55be949-cc7c-43fd-b7c9-e8f259f08a2e",
   "metadata": {},
   "outputs": [
    {
     "name": "stdout",
     "output_type": "stream",
     "text": [
      "('bookings',)\n",
      "('customerdetails',)\n",
      "('delivery_status',)\n",
      "('menu',)\n",
      "('menuitems',)\n",
      "('orders',)\n",
      "('ordersview',)\n",
      "('staff',)\n"
     ]
    }
   ],
   "source": [
    "cursor.execute(show_tables_query)\n",
    "for tables in cursor:\n",
    "    print(tables)\n"
   ]
  },
  {
   "cell_type": "code",
   "execution_count": 61,
   "id": "0cf6cacf-48c8-4937-9b17-869358095623",
   "metadata": {},
   "outputs": [
    {
     "name": "stdout",
     "output_type": "stream",
     "text": [
      "('fullName', 'email', 'phoneNumber', 'totalCost')\n",
      "(' Marcos Romero', 'ma@romero.com', 757536379, Decimal('160.00'))\n",
      "('Hiroki Yamane', 'hi@yamane.com', 757536380, Decimal('180.00'))\n",
      "('Diana Pinto', 'diana@pinto.com', 757536382, Decimal('200.00'))\n",
      "('Vanessa McCarthy', 'va@mccarthy.com', 757536378, Decimal('200.00'))\n",
      "('Ana Iversen', 'an@iversen.com', 757536381, Decimal('350.00'))\n",
      "('Ana Iversen', 'an@iversen.com', 757536381, Decimal('510.00'))\n"
     ]
    }
   ],
   "source": [
    "join_query=\"SELECT fullName, email, phoneNumber, totalCost from customerDetails INNER JOIN orders on customerDetails.customerID=orders.customerID WHERE totalCost>=60 ORDER BY totalCost\"\n",
    "cursor.execute(join_query)\n",
    "results=cursor.fetchall()\n",
    "print(cursor.column_names)\n",
    "for result in results:\n",
    "    print(result)"
   ]
  },
  {
   "cell_type": "code",
   "execution_count": null,
   "id": "bee5451b-b11d-4a6a-863d-842c4e8daf81",
   "metadata": {},
   "outputs": [],
   "source": []
  }
 ],
 "metadata": {
  "kernelspec": {
   "display_name": "Python 3 (ipykernel)",
   "language": "python",
   "name": "python3"
  },
  "language_info": {
   "codemirror_mode": {
    "name": "ipython",
    "version": 3
   },
   "file_extension": ".py",
   "mimetype": "text/x-python",
   "name": "python",
   "nbconvert_exporter": "python",
   "pygments_lexer": "ipython3",
   "version": "3.12.0"
  }
 },
 "nbformat": 4,
 "nbformat_minor": 5
}
